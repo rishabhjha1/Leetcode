{
 "cells": [
  {
   "cell_type": "markdown",
   "metadata": {},
   "source": [
    "Problem: \n",
    "* input is two non empty linked list representing two non negative integers\n",
    "* the digits are stored in reverse order and each node has a digit\n",
    "* add the nodes and reurn the sum as linked \n"
   ]
  },
  {
   "cell_type": "code",
   "execution_count": 3,
   "metadata": {},
   "outputs": [],
   "source": [
    "#Step: 1: create a list node class\n",
    "class ListNode:\n",
    "    def __init__(self, val = 0, next = None):\n",
    "        self.val = val\n",
    "        self.next = next\n",
    "\n",
    "#step:2: Initialize the function to start with the linked list\n",
    "def add_two_nums(l1,l2):\n",
    "    #initialize the dummy node to serve as the sttart of the result list\n",
    "    dummy_head = ListNode(0)\n",
    "    current = dummy_head\n",
    "    carry = 0\n",
    "\n",
    "\n",
    "#step: 3: Traverse the lists\n",
    "\n",
    "    while l1 is not None or l2 is not None:\n",
    "        x = l1.val if l1 is not None else 0\n",
    "        y = l2.val if l2 is not None else 0\n",
    "\n",
    "        total = x + y + carry\n",
    "        carry = total // 10\n",
    "        current.next = ListNode(total % 10)\n",
    "\n",
    "        #move to the next node\n",
    "        current = current.next\n",
    "\n",
    "        if l1 is not None:\n",
    "            l1 = l1.next\n",
    "        if l2 is not None:\n",
    "            l2 = l2.next\n",
    "\n",
    "        \n",
    "\n",
    "\n",
    "\n",
    "#step:4: Carry handling\n",
    "    if carry > 0:\n",
    "        current.next = ListNode(carry)\n",
    "\n",
    "    return dummy_head.next\n",
    "\n",
    "#Step:5: Return the result\n",
    "def to_linked_list(nums):\n",
    "    dummy_root = ListNode(0)\n",
    "    ptr = dummy_root\n",
    "\n",
    "    for x in nums:\n",
    "        ptr.next = ListNode(x)\n",
    "        ptr = ptr.next\n",
    "\n",
    "    ptr = dummy_root.next\n",
    "    return ptr\n",
    "\n",
    "\n",
    "def to_list(node):\n",
    "    result = []\n",
    "    while node:\n",
    "        result.append(node.val)\n",
    "        node = node.next\n",
    "    return result\n",
    "\n",
    "\n",
    "\n",
    "\n",
    "\n",
    "#Step : 6: Helper function"
   ]
  },
  {
   "cell_type": "code",
   "execution_count": 4,
   "metadata": {},
   "outputs": [
    {
     "name": "stdout",
     "output_type": "stream",
     "text": [
      "[7, 0, 8]\n"
     ]
    }
   ],
   "source": [
    "l1 = to_linked_list([2,4,3])\n",
    "l2 = to_linked_list([5,6,4])\n",
    "result = add_two_nums(l1,l2)\n",
    "print(to_list(result))\n"
   ]
  },
  {
   "cell_type": "code",
   "execution_count": null,
   "metadata": {},
   "outputs": [],
   "source": []
  }
 ],
 "metadata": {
  "kernelspec": {
   "display_name": "Python 3.10.4 64-bit",
   "language": "python",
   "name": "python3"
  },
  "language_info": {
   "codemirror_mode": {
    "name": "ipython",
    "version": 3
   },
   "file_extension": ".py",
   "mimetype": "text/x-python",
   "name": "python",
   "nbconvert_exporter": "python",
   "pygments_lexer": "ipython3",
   "version": "3.10.4"
  },
  "orig_nbformat": 4,
  "vscode": {
   "interpreter": {
    "hash": "8c3d4d9970fc5c09c50d9318a9c7fbf4d0159e4b28833276f5678ee22bded273"
   }
  }
 },
 "nbformat": 4,
 "nbformat_minor": 2
}
